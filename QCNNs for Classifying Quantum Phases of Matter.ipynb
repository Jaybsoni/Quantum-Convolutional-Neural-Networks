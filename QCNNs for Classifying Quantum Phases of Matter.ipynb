{
 "cells": [
  {
   "cell_type": "code",
   "execution_count": 2,
   "metadata": {},
   "outputs": [
    {
     "ename": "ModuleNotFoundError",
     "evalue": "No module named 'layers'",
     "output_type": "error",
     "traceback": [
      "\u001b[1;31m---------------------------------------------------------------------------\u001b[0m",
      "\u001b[1;31mModuleNotFoundError\u001b[0m                       Traceback (most recent call last)",
      "\u001b[1;32m<ipython-input-2-638a1740758c>\u001b[0m in \u001b[0;36m<module>\u001b[1;34m\u001b[0m\n\u001b[0;32m      1\u001b[0m \u001b[1;32mimport\u001b[0m \u001b[0mnumpy\u001b[0m \u001b[1;32mas\u001b[0m \u001b[0mnp\u001b[0m\u001b[1;33m\u001b[0m\u001b[1;33m\u001b[0m\u001b[0m\n\u001b[0;32m      2\u001b[0m \u001b[1;32mimport\u001b[0m \u001b[0mmatplotlib\u001b[0m\u001b[1;33m.\u001b[0m\u001b[0mpyplot\u001b[0m \u001b[1;32mas\u001b[0m \u001b[0mplt\u001b[0m\u001b[1;33m\u001b[0m\u001b[1;33m\u001b[0m\u001b[0m\n\u001b[1;32m----> 3\u001b[1;33m \u001b[1;32mfrom\u001b[0m \u001b[0mqml\u001b[0m \u001b[1;32mimport\u001b[0m \u001b[0mqcnn\u001b[0m \u001b[1;32mas\u001b[0m \u001b[0mq\u001b[0m\u001b[1;33m\u001b[0m\u001b[1;33m\u001b[0m\u001b[0m\n\u001b[0m\u001b[0;32m      4\u001b[0m \u001b[1;32mimport\u001b[0m \u001b[0mlayers\u001b[0m \u001b[1;32mas\u001b[0m \u001b[0mcl\u001b[0m \u001b[1;31m# custom layers\u001b[0m\u001b[1;33m\u001b[0m\u001b[1;33m\u001b[0m\u001b[0m\n\u001b[0;32m      5\u001b[0m \u001b[1;32mimport\u001b[0m \u001b[0mcopy\u001b[0m\u001b[1;33m\u001b[0m\u001b[1;33m\u001b[0m\u001b[0m\n",
      "\u001b[1;32m~\\Desktop\\Stuff\\4B Term\\ML\\Quantum-Convolutional-Neural-Networks\\qml\\qcnn.py\u001b[0m in \u001b[0;36m<module>\u001b[1;34m\u001b[0m\n\u001b[0;32m      2\u001b[0m \u001b[1;32mimport\u001b[0m \u001b[0mcopy\u001b[0m\u001b[1;33m\u001b[0m\u001b[1;33m\u001b[0m\u001b[0m\n\u001b[0;32m      3\u001b[0m \u001b[1;32mimport\u001b[0m \u001b[0mnumpy\u001b[0m \u001b[1;32mas\u001b[0m \u001b[0mnp\u001b[0m\u001b[1;33m\u001b[0m\u001b[1;33m\u001b[0m\u001b[0m\n\u001b[1;32m----> 4\u001b[1;33m \u001b[1;32mfrom\u001b[0m \u001b[0mlayers\u001b[0m \u001b[1;32mimport\u001b[0m \u001b[0mlegacy_conv4_layer\u001b[0m\u001b[1;33m,\u001b[0m \u001b[0mlegacy_conv_layer\u001b[0m\u001b[1;33m,\u001b[0m \u001b[0mlegacy_pool_layer\u001b[0m\u001b[1;33m\u001b[0m\u001b[1;33m\u001b[0m\u001b[0m\n\u001b[0m\u001b[0;32m      5\u001b[0m \u001b[1;32mfrom\u001b[0m \u001b[0mqiskit\u001b[0m \u001b[1;32mimport\u001b[0m \u001b[0mQuantumCircuit\u001b[0m\u001b[1;33m\u001b[0m\u001b[1;33m\u001b[0m\u001b[0m\n\u001b[0;32m      6\u001b[0m \u001b[1;32mfrom\u001b[0m \u001b[0mqiskit\u001b[0m \u001b[1;32mimport\u001b[0m \u001b[0mquantum_info\u001b[0m \u001b[1;32mas\u001b[0m \u001b[0mqi\u001b[0m\u001b[1;33m\u001b[0m\u001b[1;33m\u001b[0m\u001b[0m\n",
      "\u001b[1;31mModuleNotFoundError\u001b[0m: No module named 'layers'"
     ]
    }
   ],
   "source": [
    "import numpy as np\n",
    "import matplotlib.pyplot as plt \n",
    "from qml import qcnn as q\n",
    "import layers as cl # custom layers \n",
    "import copy"
   ]
  },
  {
   "cell_type": "code",
   "execution_count": null,
   "metadata": {},
   "outputs": [],
   "source": [
    "## read / import data \n",
    "num_qubits = 8\n",
    "training_fname = \"./qcnns_for_phase_recog/data/dataset_n=8_train.txt\"\n",
    "test_fname = \"./qcnns_for_phase_recog/data/dataset_n=8_test.txt\"\n",
    "\n",
    "def read_eigenvectors(file):\n",
    "    with open(file, 'r+') as f:\n",
    "        textData = f.readlines()\n",
    "\n",
    "        h_vals = []\n",
    "        for i in range(len(textData)):\n",
    "            h1h2, eigenvector = textData[i].split(\"_\")\n",
    "\n",
    "            h_vals.append(tuple(map(float, h1h2[1: -1].split(', '))))\n",
    "            textData[i] = eigenvector\n",
    "\n",
    "        return h_vals, np.loadtxt(textData, dtype=complex)\n",
    "\n",
    "h1h2_train, train_data = read_eigenvectors(training_fname)\n",
    "h1h2_test, test_data = read_eigenvectors(test_fname)\n",
    "\n",
    "labels = np.zeros(40)\n",
    "\n",
    "for index, h1h2 in enumerate(h1h2_train):\n",
    "    h1, h2 = h1h2\n",
    "    if h1 <= 1: \n",
    "        labels[index] = 1.0\n"
   ]
  },
  {
   "cell_type": "code",
   "execution_count": null,
   "metadata": {},
   "outputs": [],
   "source": [
    "## Model \n",
    "my_qcnn = q.Qcnn(num_qubits)\n",
    "\n",
    "## Add Custom layer: \n",
    "legacy_fully_connected_layer = cl.get_legacy_fc_layer(num_qubits // 3)  # because we will be pooling out 2/3 of the qubits \n",
    "my_qcnn.Layers[legacy_fully_connected_layer.name] = legacy_fully_connected_layer # we have to add it to our model class variable\n",
    "\n",
    "\n",
    "## def structure: \n",
    "my_qcnn.add_layer(my_qcnn.Layers[\"legacy_conv4_layer\"], kwargs={\"label\":\"C4_1\"} )\n",
    "my_qcnn.add_layer(my_qcnn.Layers[\"legacy_conv_layer\"], kwargs={\"label\": \"C2\"})\n",
    "# my_qcnn.add_layer(my_qcnn.Layers[\"legacy_conv_layer\"], kwargs={\"label\": \"C3\", \"start_index\": 1})\n",
    "# my_qcnn.add_layer(my_qcnn.Layers[\"legacy_conv_layer\"], kwargs={\"label\": \"C4\", \"start_index\": 2})\n",
    "my_qcnn.add_layer(my_qcnn.Layers[\"legacy_pool_layer\"], kwargs={\"label\": \"P1\", \n",
    "                                                               \"update_active_qubits\": {\"group_len\": 3, \"target\": 1}})\n",
    "                                                              # after this we have pooled out 2 out of every 3 qubits \n",
    "\n",
    "my_qcnn.add_layer(my_qcnn.Layers[legacy_fully_connected_layer.name], kwargs={})  # this is the custom layer we added earlier ! \n",
    "\n",
    "## Initialize parameters: \n",
    "my_qcnn.initialize_params(random=True)\n",
    "initial_params = copy.deepcopy(my_qcnn.params)\n",
    "\n",
    "## visual check : \n",
    "# circ = my_qcnn.generate_circ(my_qcnn.params)\n",
    "# circ.draw(reverse_bits=True)"
   ]
  },
  {
   "cell_type": "code",
   "execution_count": null,
   "metadata": {},
   "outputs": [],
   "source": [
    "## Learning as described in paper: \n",
    "learning_rate = 100000  # intial value was 10 but this quantity doesn't learn fast enough ! \n",
    "successive_loss = 1.0 # initialize to arbitrary value > 10^-5\n",
    "loss_lst = []  # initialize \n",
    "iteration_num = 1 \n",
    "\n",
    "while (abs(successive_loss) > 1e-5) and (iteration_num < 10):\n",
    "    pred = my_qcnn.forward(train_data, my_qcnn.params.copy())\n",
    "    loss = my_qcnn.mse_loss(pred, labels)\n",
    "    \n",
    "    print(\"---- Iteration : {}, Loss {} ----------------------\".format(iteration_num, loss))\n",
    "    \n",
    "    if iteration_num == 1:\n",
    "        pass \n",
    "    \n",
    "    else: \n",
    "        successive_loss = loss - loss_lst[-1]       \n",
    "        if successive_loss < 0: \n",
    "            learning_rate *= 1.05  # if loss decreases, increase learning rate by 5%\n",
    "        else:\n",
    "            learning_rate /= 2  # if it gets bigger, decrease learning rate by 50% \n",
    "            \n",
    "    grad_mat = my_qcnn.compute_grad(train_data, labels)\n",
    "#     grad_mat = my_qcnn.compute_grad_w_mp(train_data, labels)  # with multi processing \n",
    "    my_qcnn.update_params(grad_mat, learning_rate)\n",
    "    \n",
    "    loss_lst.append(loss)\n",
    "    iteration_num += 1 \n",
    "    \n",
    "# params = copy.deepcopy(my_qcnn.params)"
   ]
  },
  {
   "cell_type": "code",
   "execution_count": null,
   "metadata": {},
   "outputs": [],
   "source": [
    "# print(params)  ## extracting parameters to save future training time "
   ]
  },
  {
   "cell_type": "code",
   "execution_count": null,
   "metadata": {},
   "outputs": [],
   "source": [
    "## Using model on test data (graph visualization) :\n",
    "predictions = my_qcnn.forward(test_data, my_qcnn.params.copy())\n",
    "print('got predictions!')"
   ]
  },
  {
   "cell_type": "code",
   "execution_count": null,
   "metadata": {},
   "outputs": [],
   "source": [
    "flipped_pred_mat = predictions.reshape((64, 32), order='F')\n",
    "pred_mat = []\n",
    "for row_index in np.arange(len(flipped_pred_mat) - 1, -1, -1):\n",
    "    pred_mat.append(flipped_pred_mat[row_index])\n",
    "\n",
    "pred_mat = np.array(pred_mat)\n",
    "\n",
    "heat_map = plt.imshow(pred_mat, cmap = 'autumn', interpolation = 'nearest')\n",
    "plt.colorbar(heat_map, label=\"Exp_val X\")\n",
    "plt.title( \"2-D Heat Map\" )\n",
    "plt.xlabel('h1/J')\n",
    "plt.ylabel('h2/J')\n",
    "plt.show()"
   ]
  },
  {
   "cell_type": "code",
   "execution_count": null,
   "metadata": {},
   "outputs": [],
   "source": [
    "# print(initial_params)  "
   ]
  },
  {
   "cell_type": "code",
   "execution_count": null,
   "metadata": {},
   "outputs": [],
   "source": [
    "## heat_map for initial params (graph visualization) :\n",
    "initial_predictions = my_qcnn.forward(test_data, initial_params)\n",
    "print('got predictions!')"
   ]
  },
  {
   "cell_type": "code",
   "execution_count": null,
   "metadata": {},
   "outputs": [],
   "source": [
    "flipped_pred_mat = initial_predictions.reshape((64, 64), order='F')\n",
    "pred_mat = []\n",
    "for row_index in np.arange(len(flipped_pred_mat) - 1, -1, -1):\n",
    "    pred_mat.append(flipped_pred_mat[row_index])\n",
    "\n",
    "pred_mat = np.array(pred_mat)\n",
    "\n",
    "\n",
    "# plot heat map \n",
    "heat_map = plt.imshow(pred_mat, cmap = 'autumn', interpolation = 'nearest')\n",
    "plt.colorbar(heat_map, label=\"Exp_val X\")\n",
    "plt.title( \"2-D Heat Map\" )\n",
    "plt.xlabel('h1/J')\n",
    "plt.ylabel('h2/J')\n",
    "\n",
    "# plot phase boundaries\n",
    "h1_vals = [0.1000, 0.2556, 0.4111, 0.5667, 0.7222, 0.8778, 1.0333, 1.1889, 1.3444, 1.5000]\n",
    "anti_ferro_mag_boundary = [-1.004, -1.0009, -1.024, -1.049, -1.079, -1.109, -1.154,  -1.225, -1.285, -1.35]\n",
    "para_mag_boundary = [0.8439, 0.6636, 0.5033, 0.3631, 0.2229, 0.09766, -0.02755, -0.1377, -0.2479, -0.3531]\n",
    "\n",
    "plt.plot(h1_vals, anti_ferro_mag_boundary, label=\"Antiferromagnetics\")\n",
    "plt.plot(h1_vals, para_mag_boundary, label=\"Paramagnetic\")\n",
    "\n",
    "plt.show()"
   ]
  },
  {
   "cell_type": "code",
   "execution_count": null,
   "metadata": {},
   "outputs": [],
   "source": [
    "## Loss plot: \n",
    "x_axis = range(len(loss_lst))\n",
    "\n",
    "plt.plot(x_axis, loss_lst)\n",
    "plt.title('Training Loss over Epoches')\n",
    "plt.xlabel('Epoches')\n",
    "plt.ylabel(\"Loss\")\n",
    "plt.show()"
   ]
  },
  {
   "cell_type": "code",
   "execution_count": null,
   "metadata": {},
   "outputs": [],
   "source": []
  }
 ],
 "metadata": {
  "kernelspec": {
   "display_name": "Python 3",
   "language": "python",
   "name": "python3"
  },
  "language_info": {
   "codemirror_mode": {
    "name": "ipython",
    "version": 3
   },
   "file_extension": ".py",
   "mimetype": "text/x-python",
   "name": "python",
   "nbconvert_exporter": "python",
   "pygments_lexer": "ipython3",
   "version": "3.7.4"
  }
 },
 "nbformat": 4,
 "nbformat_minor": 2
}
