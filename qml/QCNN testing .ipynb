{
 "cells": [
  {
   "cell_type": "code",
   "execution_count": 3,
   "metadata": {},
   "outputs": [],
   "source": [
    "import numpy as np\n",
    "import matplotlib.pyplot as plt \n",
    "import qcnn as q"
   ]
  },
  {
   "cell_type": "code",
   "execution_count": 4,
   "metadata": {},
   "outputs": [],
   "source": [
    "## read / import data \n",
    "num_qubits = 8\n",
    "training_fname = \"example_training_data_n8.txt\"\n",
    "test_fname = \"example_test_data_n8.txt\"\n",
    "\n",
    "def read_eigenvectors(file):\n",
    "    with open(file, 'r+') as f:\n",
    "        textData = f.readlines()\n",
    "\n",
    "        h_vals = []\n",
    "        for i in range(len(textData)):\n",
    "            h1h2, eigenvector = textData[i].split(\"_\")\n",
    "\n",
    "            h_vals.append(tuple(map(float, h1h2[1: -1].split(', '))))\n",
    "            textData[i] = eigenvector\n",
    "\n",
    "        return h_vals, np.loadtxt(textData, dtype=complex)\n",
    "\n",
    "h1h2_train, train_data = read_eigenvectors(training_fname)\n",
    "h1h2_test, test_data = read_eigenvectors(test_fname)\n",
    "\n",
    "labels = np.zeros(40)\n",
    "\n",
    "for index, h1h2 in enumerate(h1h2_train):\n",
    "    h1, h2 = h1h2\n",
    "    if h1 <= 1: \n",
    "        labels[index] = 1.0\n",
    "\n",
    "# for h1h2, label in zip(h1h2_train, labels):\n",
    "#     print(h1h2, label)\n"
   ]
  },
  {
   "cell_type": "code",
   "execution_count": 5,
   "metadata": {
    "scrolled": false
   },
   "outputs": [],
   "source": [
    "## Model \n",
    "my_qcnn = q.Qcnn(num_qubits)\n",
    "\n",
    "## def structure: \n",
    "conv4_kwargs = {\"label\":\"C4_1\"} \n",
    "first_conv_kwargs = {\"label\": \"C2\"}\n",
    "second_conv_kwargs = {\"label\": \"C3\", \n",
    "                      \"start_index\": 1}\n",
    "third_conv_kwargs = {\"label\": \"C4\", \n",
    "                     \"start_index\": 2}\n",
    "pool_kwargs = {\"label\": \"P1\", \n",
    "               \"update_active_qubits\": {\"group_len\": 3, \"target\": 1}}\n",
    "\n",
    "my_qcnn.add_layer(my_qcnn.Layers[\"legacy_conv4_layer\"], conv4_kwargs)\n",
    "# my_qcnn.add_layer(my_qcnn.Layers[\"legacy_conv_layer\"], first_conv_kwargs)\n",
    "# my_qcnn.add_layer(my_qcnn.Layers[\"legacy_conv_layer\"], second_conv_kwargs)\n",
    "# my_qcnn.add_layer(my_qcnn.Layers[\"legacy_conv_layer\"], third_conv_kwargs)\n",
    "# my_qcnn.add_layer(my_qcnn.Layers[\"legacy_pool_layer\"], pool_kwargs)\n",
    "\n",
    "my_qcnn.initialize_params()\n",
    "\n",
    "## visual check : \n",
    "# circ = my_qcnn.generate_circ()\n",
    "# circ.draw(reverse_bits=True)"
   ]
  },
  {
   "cell_type": "markdown",
   "metadata": {},
   "source": [
    "### Learning as described in paper: "
   ]
  },
  {
   "cell_type": "code",
   "execution_count": 6,
   "metadata": {},
   "outputs": [
    {
     "name": "stdout",
     "output_type": "stream",
     "text": [
      "---- Iteration : 1, Loss 0.5149992374461065 ----------------------\n",
      "[1. 1. 1. 1. 1. 1. 1. 1. 1. 1. 1. 1. 1. 1. 1.]\n",
      "10\n",
      "[-3.48602038e-10 -6.81244589e-10 -1.22096465e-09 -1.60510045e-10\n",
      " -1.30900682e-09  4.17575369e-11 -1.05967503e-09 -7.15141956e-10\n",
      " -5.69884551e-10 -1.66307283e-09 -8.09570239e-10  1.16031555e-09\n",
      " -1.38573767e-09 -4.32995024e-10  3.64939371e-11]\n",
      "---- Iteration : 2, Loss 0.5149992374461065 ----------------------\n",
      "[1.         1.00000001 1.00000001 1.         1.00000001 1.\n",
      " 1.00000001 1.00000001 1.00000001 1.00000002 1.00000001 0.99999999\n",
      " 1.00000001 1.         1.        ]\n",
      "5.0\n",
      "[-3.48602038e-10 -6.81244589e-10 -1.22096465e-09 -1.60510045e-10\n",
      " -1.30900682e-09  4.17575369e-11 -1.05967503e-09 -7.15141956e-10\n",
      " -5.69884551e-10 -1.66307283e-09 -8.09570239e-10  1.16031555e-09\n",
      " -1.38573767e-09 -4.32995024e-10  3.64939371e-11]\n"
     ]
    }
   ],
   "source": [
    "## Learning as described in paper: \n",
    "learning_rate = 10\n",
    "successive_loss = 1.0 # initialize to arbitrary value > 10^-5\n",
    "loss_lst = []  # initialize \n",
    "iteration_num = 1 \n",
    "\n",
    "while (abs(successive_loss) > 1e-5) and (iteration_num < 1000):\n",
    "    pred = my_qcnn.forward(train_data)\n",
    "    loss = my_qcnn.mse_loss(pred, labels)\n",
    "    \n",
    "    print(\"---- Iteration : {}, Loss {} ----------------------\".format(iteration_num, loss))\n",
    "    \n",
    "    if iteration_num == 1:\n",
    "        pass \n",
    "    \n",
    "    else: \n",
    "        successive_loss = loss - loss_lst[-1]       \n",
    "        if successive_loss < 0: \n",
    "            learning_rate *= 1.05  # if loss decreases, increase learning rate by 5%\n",
    "        else:\n",
    "            learning_rate /= 2  # if it gets bigger, decrease learning rate by 50% \n",
    "            \n",
    "    grad_mat = my_qcnn.compute_grad(train_data, labels)\n",
    "    my_qcnn.update_params(grad_mat, learning_rate)\n",
    "    \n",
    "    loss_lst.append(loss)\n",
    "    iteration_num += 1 \n",
    "    \n",
    "params = my_qcnn.params\n"
   ]
  },
  {
   "cell_type": "code",
   "execution_count": 7,
   "metadata": {},
   "outputs": [
    {
     "name": "stdout",
     "output_type": "stream",
     "text": [
      "[array([1.00000001, 1.00000001, 1.00000002, 1.        , 1.00000002,\n",
      "       1.        , 1.00000002, 1.00000001, 1.00000001, 1.00000002,\n",
      "       1.00000001, 0.99999998, 1.00000002, 1.00000001, 1.        ])]\n"
     ]
    }
   ],
   "source": [
    "print(params)  ## extracting parameters to save future training time "
   ]
  },
  {
   "cell_type": "code",
   "execution_count": 11,
   "metadata": {},
   "outputs": [
    {
     "name": "stdout",
     "output_type": "stream",
     "text": [
      "got predictions!\n"
     ]
    },
    {
     "data": {
      "image/png": "[encoded data removed]",
      "text/plain": [
       "<Figure size 432x288 with 1 Axes>"
      ]
     },
     "metadata": {
      "needs_background": "light"
     },
     "output_type": "display_data"
    }
   ],
   "source": [
    "## Using model on test data (graph visualization) :\n",
    "predictions = my_qcnn.forward(test_data)\n",
    "print('got predictions!')"
   ]
  },
  {
   "cell_type": "code",
   "execution_count": 12,
   "metadata": {},
   "outputs": [
    {
     "data": {
      "image/png": "[encoded data removed]",
      "text/plain": [
       "<Figure size 432x288 with 1 Axes>"
      ]
     },
     "metadata": {
      "needs_background": "light"
     },
     "output_type": "display_data"
    }
   ],
   "source": [
    "pred_mat = predictions.reshape((32, 64), order='C')\n",
    "\n",
    "plt.imshow(pred_mat, cmap = 'autumn', interpolation = 'nearest')\n",
    "plt.title( \"2-D Heat Map\" )\n",
    "plt.show()"
   ]
  },
  {
   "cell_type": "code",
   "execution_count": 10,
   "metadata": {},
   "outputs": [
    {
     "data": {
      "image/png": "[encoded data removed]",
      "text/plain": [
       "<Figure size 432x288 with 1 Axes>"
      ]
     },
     "metadata": {
      "needs_background": "light"
     },
     "output_type": "display_data"
    }
   ],
   "source": [
    "## Loss plot: \n",
    "x_axis = range(len(loss_lst))\n",
    "\n",
    "plt.plot(x_axis, loss_lst)\n",
    "plt.show()"
   ]
  },
  {
   "cell_type": "markdown",
   "metadata": {},
   "source": [
    "### Experimental Learning Approach: "
   ]
  },
  {
   "cell_type": "code",
   "execution_count": null,
   "metadata": {},
   "outputs": [],
   "source": [
    "## Experimental Learning approach: \n",
    "num_epoches = 100\n",
    "batch_size = 10\n",
    "learning_rate = 10\n"
   ]
  }
 ],
 "metadata": {
  "kernelspec": {
   "display_name": "Python 3",
   "language": "python",
   "name": "python3"
  },
  "language_info": {
   "codemirror_mode": {
    "name": "ipython",
    "version": 3
   },
   "file_extension": ".py",
   "mimetype": "text/x-python",
   "name": "python",
   "nbconvert_exporter": "python",
   "pygments_lexer": "ipython3",
   "version": "3.7.4"
  }
 },
 "nbformat": 4,
 "nbformat_minor": 2
}