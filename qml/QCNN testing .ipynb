{
 "cells": [
  {
   "cell_type": "code",
   "execution_count": 1,
   "metadata": {},
   "outputs": [],
   "source": [
    "import numpy as np\n",
    "import matplotlib.pyplot as plt \n",
    "import qcnn as q\n",
    "import copy"
   ]
  },
  {
   "cell_type": "code",
   "execution_count": 2,
   "metadata": {},
   "outputs": [],
   "source": [
    "## read / import data \n",
    "num_qubits = 8\n",
    "training_fname = \"example_training_data_n8.txt\"\n",
    "test_fname = \"example_test_data_n8.txt\"\n",
    "\n",
    "def read_eigenvectors(file):\n",
    "    with open(file, 'r+') as f:\n",
    "        textData = f.readlines()\n",
    "\n",
    "        h_vals = []\n",
    "        for i in range(len(textData)):\n",
    "            h1h2, eigenvector = textData[i].split(\"_\")\n",
    "\n",
    "            h_vals.append(tuple(map(float, h1h2[1: -1].split(', '))))\n",
    "            textData[i] = eigenvector\n",
    "\n",
    "        return h_vals, np.loadtxt(textData, dtype=complex)\n",
    "\n",
    "h1h2_train, train_data = read_eigenvectors(training_fname)\n",
    "h1h2_test, test_data = read_eigenvectors(test_fname)\n",
    "\n",
    "labels = np.zeros(40)\n",
    "\n",
    "for index, h1h2 in enumerate(h1h2_train):\n",
    "    h1, h2 = h1h2\n",
    "    if h1 <= 1: \n",
    "        labels[index] = 1.0\n",
    "\n",
    "# for h1h2, label in zip(h1h2_train, labels):\n",
    "#     print(h1h2, label)\n"
   ]
  },
  {
   "cell_type": "code",
   "execution_count": 4,
   "metadata": {
    "scrolled": false
   },
   "outputs": [],
   "source": [
    "## Model \n",
    "my_qcnn = q.Qcnn(num_qubits)\n",
    "\n",
    "## def structure: \n",
    "conv4_kwargs = {\"label\":\"C4_1\"} \n",
    "first_conv_kwargs = {\"label\": \"C2\"}\n",
    "second_conv_kwargs = {\"label\": \"C3\", \n",
    "                      \"start_index\": 1}\n",
    "third_conv_kwargs = {\"label\": \"C4\", \n",
    "                     \"start_index\": 2}\n",
    "pool_kwargs = {\"label\": \"P1\", \n",
    "               \"update_active_qubits\": {\"group_len\": 3, \"target\": 1}}\n",
    "fc_kwargs = {}\n",
    "\n",
    "my_qcnn.add_layer(my_qcnn.Layers[\"legacy_conv4_layer\"], conv4_kwargs)\n",
    "# my_qcnn.add_layer(my_qcnn.Layers[\"legacy_conv_layer\"], first_conv_kwargs)\n",
    "# my_qcnn.add_layer(my_qcnn.Layers[\"legacy_conv_layer\"], second_conv_kwargs)\n",
    "# my_qcnn.add_layer(my_qcnn.Layers[\"legacy_conv_layer\"], third_conv_kwargs)\n",
    "my_qcnn.add_layer(my_qcnn.Layers[\"legacy_pool_layer\"], pool_kwargs)\n",
    "my_qcnn.add_layer(my_qcnn.Layers[\"legacy_fc_layer_n8\"], fc_kwargs)\n",
    "\n",
    "my_qcnn.initialize_params(random=True)\n",
    "initial_params = copy.deepcopy(my_qcnn.params)\n",
    "\n",
    "## visual check : \n",
    "# circ = my_qcnn.generate_circ(my_qcnn.params)\n",
    "# circ.draw(reverse_bits=True)"
   ]
  },
  {
   "cell_type": "markdown",
   "metadata": {},
   "source": [
    "### Learning as described in paper: "
   ]
  },
  {
   "cell_type": "code",
   "execution_count": 5,
   "metadata": {},
   "outputs": [
    {
     "name": "stdout",
     "output_type": "stream",
     "text": [
      "---- Iteration : 1, Loss 0.4466077579980519 ----------------------\n",
      "---- Iteration : 2, Loss 0.44659025639543126 ----------------------\n",
      "---- Iteration : 3, Loss 0.44657283307640105 ----------------------\n",
      "---- Iteration : 4, Loss 0.44655531640385265 ----------------------\n",
      "---- Iteration : 5, Loss 0.4465377897265316 ----------------------\n",
      "---- Iteration : 6, Loss 0.4465202530518802 ----------------------\n",
      "---- Iteration : 7, Loss 0.44650278996655823 ----------------------\n",
      "---- Iteration : 8, Loss 0.4464852333671077 ----------------------\n",
      "---- Iteration : 9, Loss 0.4464676305811982 ----------------------\n",
      "---- Iteration : 10, Loss 0.4464500540222868 ----------------------\n",
      "---- Iteration : 11, Loss 0.4464324973842867 ----------------------\n",
      "---- Iteration : 12, Loss 0.4464146758709392 ----------------------\n",
      "---- Iteration : 13, Loss 0.446397069411255 ----------------------\n",
      "---- Iteration : 14, Loss 0.4463794262561276 ----------------------\n",
      "---- Iteration : 15, Loss 0.4463617000273235 ----------------------\n",
      "---- Iteration : 16, Loss 0.44634414779162845 ----------------------\n",
      "---- Iteration : 17, Loss 0.44632650168236115 ----------------------\n",
      "---- Iteration : 18, Loss 0.44630883553072503 ----------------------\n",
      "---- Iteration : 19, Loss 0.4462911022848773 ----------------------\n",
      "---- Iteration : 20, Loss 0.4462734135588053 ----------------------\n",
      "---- Iteration : 21, Loss 0.4462558010294922 ----------------------\n",
      "---- Iteration : 22, Loss 0.4462378850168395 ----------------------\n",
      "---- Iteration : 23, Loss 0.44622007407679903 ----------------------\n",
      "---- Iteration : 24, Loss 0.44620235870100194 ----------------------\n",
      "---- Iteration : 25, Loss 0.4461846334701692 ----------------------\n",
      "---- Iteration : 26, Loss 0.446166982867925 ----------------------\n",
      "---- Iteration : 27, Loss 0.4461492379964874 ----------------------\n",
      "---- Iteration : 28, Loss 0.4461312395092931 ----------------------\n",
      "---- Iteration : 29, Loss 0.44611345131215485 ----------------------\n",
      "---- Iteration : 30, Loss 0.4460956454064167 ----------------------\n",
      "---- Iteration : 31, Loss 0.4460777720655778 ----------------------\n",
      "---- Iteration : 32, Loss 0.44605997290080807 ----------------------\n",
      "---- Iteration : 33, Loss 0.4460419350952079 ----------------------\n",
      "---- Iteration : 34, Loss 0.4460241804438951 ----------------------\n",
      "---- Iteration : 35, Loss 0.4460063469822174 ----------------------\n",
      "---- Iteration : 36, Loss 0.44598851380603755 ----------------------\n",
      "---- Iteration : 37, Loss 0.44597024705149213 ----------------------\n",
      "---- Iteration : 38, Loss 0.4459523812557563 ----------------------\n",
      "---- Iteration : 39, Loss 0.44593446836987516 ----------------------\n",
      "---- Iteration : 40, Loss 0.44591641138300203 ----------------------\n",
      "---- Iteration : 41, Loss 0.44589829001802117 ----------------------\n",
      "---- Iteration : 42, Loss 0.4458803824063109 ----------------------\n",
      "---- Iteration : 43, Loss 0.4458624695142815 ----------------------\n",
      "---- Iteration : 44, Loss 0.4458443135961595 ----------------------\n",
      "---- Iteration : 45, Loss 0.44582636602385184 ----------------------\n",
      "---- Iteration : 46, Loss 0.44580808375160574 ----------------------\n",
      "---- Iteration : 47, Loss 0.4457899628042418 ----------------------\n",
      "---- Iteration : 48, Loss 0.44577173070353526 ----------------------\n",
      "---- Iteration : 49, Loss 0.44575372607189284 ----------------------\n",
      "---- Iteration : 50, Loss 0.4457354984847942 ----------------------\n",
      "---- Iteration : 51, Loss 0.4457173425594291 ----------------------\n",
      "---- Iteration : 52, Loss 0.4456990457824103 ----------------------\n",
      "---- Iteration : 53, Loss 0.4456808771390808 ----------------------\n",
      "---- Iteration : 54, Loss 0.44566261468062435 ----------------------\n",
      "---- Iteration : 55, Loss 0.44564446018896947 ----------------------\n",
      "---- Iteration : 56, Loss 0.4456260353921234 ----------------------\n",
      "---- Iteration : 57, Loss 0.4456076532890857 ----------------------\n",
      "---- Iteration : 58, Loss 0.4455890931722638 ----------------------\n",
      "---- Iteration : 59, Loss 0.44557098684203317 ----------------------\n",
      "---- Iteration : 60, Loss 0.44555252013466606 ----------------------\n",
      "---- Iteration : 61, Loss 0.4455339876317893 ----------------------\n",
      "---- Iteration : 62, Loss 0.44551555649081215 ----------------------\n",
      "---- Iteration : 63, Loss 0.4454970086922733 ----------------------\n",
      "---- Iteration : 64, Loss 0.44547853681482535 ----------------------\n",
      "---- Iteration : 65, Loss 0.445459923016169 ----------------------\n",
      "---- Iteration : 66, Loss 0.445441208215869 ----------------------\n",
      "---- Iteration : 67, Loss 0.44542283333212557 ----------------------\n",
      "---- Iteration : 68, Loss 0.4454037633071598 ----------------------\n",
      "---- Iteration : 69, Loss 0.44538522129208713 ----------------------\n",
      "---- Iteration : 70, Loss 0.4453664586029632 ----------------------\n",
      "---- Iteration : 71, Loss 0.44534749254102096 ----------------------\n",
      "---- Iteration : 72, Loss 0.44532882662838064 ----------------------\n",
      "---- Iteration : 73, Loss 0.4453098529780709 ----------------------\n",
      "---- Iteration : 74, Loss 0.4452909724366867 ----------------------\n",
      "---- Iteration : 75, Loss 0.44527197197973384 ----------------------\n",
      "---- Iteration : 76, Loss 0.445252912079965 ----------------------\n",
      "---- Iteration : 77, Loss 0.44523377595131475 ----------------------\n",
      "---- Iteration : 78, Loss 0.4452144804581926 ----------------------\n",
      "---- Iteration : 79, Loss 0.4451954887865989 ----------------------\n",
      "---- Iteration : 80, Loss 0.44517624510170944 ----------------------\n",
      "---- Iteration : 81, Loss 0.44515693630387876 ----------------------\n",
      "---- Iteration : 82, Loss 0.4451374228153524 ----------------------\n",
      "---- Iteration : 83, Loss 0.4451181400435969 ----------------------\n",
      "---- Iteration : 84, Loss 0.4450985806666637 ----------------------\n",
      "---- Iteration : 85, Loss 0.44507889906319437 ----------------------\n",
      "---- Iteration : 86, Loss 0.44505913454459733 ----------------------\n",
      "---- Iteration : 87, Loss 0.44503957674337274 ----------------------\n",
      "---- Iteration : 88, Loss 0.4450197208024778 ----------------------\n",
      "---- Iteration : 89, Loss 0.444999648542982 ----------------------\n",
      "---- Iteration : 90, Loss 0.4449797843954462 ----------------------\n",
      "---- Iteration : 91, Loss 0.444959659499906 ----------------------\n",
      "---- Iteration : 92, Loss 0.4449394738685123 ----------------------\n",
      "---- Iteration : 93, Loss 0.44491912258183025 ----------------------\n",
      "---- Iteration : 94, Loss 0.44489852965065985 ----------------------\n",
      "---- Iteration : 95, Loss 0.444878208678007 ----------------------\n",
      "---- Iteration : 96, Loss 0.44485746230241163 ----------------------\n",
      "---- Iteration : 97, Loss 0.44483674957177577 ----------------------\n",
      "---- Iteration : 98, Loss 0.44481579187068476 ----------------------\n",
      "---- Iteration : 99, Loss 0.44479479548251355 ----------------------\n",
      "---- Iteration : 100, Loss 0.4447735929277428 ----------------------\n",
      "---- Iteration : 101, Loss 0.44475232310272084 ----------------------\n",
      "---- Iteration : 102, Loss 0.4447307669658834 ----------------------\n",
      "---- Iteration : 103, Loss 0.44470898477723164 ----------------------\n",
      "---- Iteration : 104, Loss 0.4446872772069311 ----------------------\n",
      "---- Iteration : 105, Loss 0.44466543184564405 ----------------------\n",
      "---- Iteration : 106, Loss 0.44464309192438983 ----------------------\n",
      "---- Iteration : 107, Loss 0.4446208565765918 ----------------------\n",
      "---- Iteration : 108, Loss 0.4445981498951571 ----------------------\n",
      "---- Iteration : 109, Loss 0.44457534269870047 ----------------------\n",
      "---- Iteration : 110, Loss 0.4445522877138843 ----------------------\n",
      "---- Iteration : 111, Loss 0.4445289473627111 ----------------------\n",
      "---- Iteration : 112, Loss 0.4445054300470236 ----------------------\n",
      "---- Iteration : 113, Loss 0.4444816441539155 ----------------------\n",
      "---- Iteration : 114, Loss 0.44445771739422335 ----------------------\n",
      "---- Iteration : 115, Loss 0.44443324328937095 ----------------------\n",
      "---- Iteration : 116, Loss 0.44440864597034446 ----------------------\n",
      "---- Iteration : 117, Loss 0.4443836128001034 ----------------------\n",
      "---- Iteration : 118, Loss 0.44435838205210454 ----------------------\n",
      "---- Iteration : 119, Loss 0.44433264284024354 ----------------------\n",
      "---- Iteration : 120, Loss 0.4443066275948106 ----------------------\n"
     ]
    },
    {
     "name": "stdout",
     "output_type": "stream",
     "text": [
      "---- Iteration : 121, Loss 0.44428028540030906 ----------------------\n",
      "---- Iteration : 122, Loss 0.44425356557922946 ----------------------\n",
      "---- Iteration : 123, Loss 0.44422622948244844 ----------------------\n",
      "---- Iteration : 124, Loss 0.44419848711162724 ----------------------\n",
      "---- Iteration : 125, Loss 0.44417040652702644 ----------------------\n",
      "---- Iteration : 126, Loss 0.4441419906208527 ----------------------\n",
      "---- Iteration : 127, Loss 0.4441128316405649 ----------------------\n",
      "---- Iteration : 128, Loss 0.4440831041854162 ----------------------\n",
      "---- Iteration : 129, Loss 0.44405274087997687 ----------------------\n",
      "---- Iteration : 130, Loss 0.44402200003432 ----------------------\n",
      "---- Iteration : 131, Loss 0.44399051750450713 ----------------------\n",
      "---- Iteration : 132, Loss 0.443958304882816 ----------------------\n",
      "---- Iteration : 133, Loss 0.443925463815131 ----------------------\n",
      "---- Iteration : 134, Loss 0.4438921480480801 ----------------------\n",
      "---- Iteration : 135, Loss 0.4438577461468555 ----------------------\n",
      "---- Iteration : 136, Loss 0.4438228384664635 ----------------------\n",
      "---- Iteration : 137, Loss 0.44378691340028736 ----------------------\n",
      "---- Iteration : 138, Loss 0.44375005334810436 ----------------------\n",
      "---- Iteration : 139, Loss 0.4437123154914227 ----------------------\n"
     ]
    },
    {
     "ename": "KeyboardInterrupt",
     "evalue": "",
     "output_type": "error",
     "traceback": [
      "\u001b[1;31m---------------------------------------------------------------------------\u001b[0m",
      "\u001b[1;31mKeyboardInterrupt\u001b[0m                         Traceback (most recent call last)",
      "\u001b[1;32m<ipython-input-5-e946c86560f6>\u001b[0m in \u001b[0;36m<module>\u001b[1;34m\u001b[0m\n\u001b[0;32m     21\u001b[0m             \u001b[0mlearning_rate\u001b[0m \u001b[1;33m/=\u001b[0m \u001b[1;36m2\u001b[0m  \u001b[1;31m# if it gets bigger, decrease learning rate by 50%\u001b[0m\u001b[1;33m\u001b[0m\u001b[1;33m\u001b[0m\u001b[0m\n\u001b[0;32m     22\u001b[0m \u001b[1;33m\u001b[0m\u001b[0m\n\u001b[1;32m---> 23\u001b[1;33m     \u001b[0mgrad_mat\u001b[0m \u001b[1;33m=\u001b[0m \u001b[0mmy_qcnn\u001b[0m\u001b[1;33m.\u001b[0m\u001b[0mcompute_grad\u001b[0m\u001b[1;33m(\u001b[0m\u001b[0mtrain_data\u001b[0m\u001b[1;33m,\u001b[0m \u001b[0mlabels\u001b[0m\u001b[1;33m)\u001b[0m\u001b[1;33m\u001b[0m\u001b[1;33m\u001b[0m\u001b[0m\n\u001b[0m\u001b[0;32m     24\u001b[0m     \u001b[0mmy_qcnn\u001b[0m\u001b[1;33m.\u001b[0m\u001b[0mupdate_params\u001b[0m\u001b[1;33m(\u001b[0m\u001b[0mgrad_mat\u001b[0m\u001b[1;33m,\u001b[0m \u001b[0mlearning_rate\u001b[0m\u001b[1;33m)\u001b[0m\u001b[1;33m\u001b[0m\u001b[1;33m\u001b[0m\u001b[0m\n\u001b[0;32m     25\u001b[0m \u001b[1;33m\u001b[0m\u001b[0m\n",
      "\u001b[1;32m~\\Desktop\\Stuff\\4B Term\\ML\\Quantum-Convolutional-Neural-Networks\\qml\\qcnn.py\u001b[0m in \u001b[0;36mcompute_grad\u001b[1;34m(self, input_wfs, labels, epsilon)\u001b[0m\n\u001b[0;32m    154\u001b[0m                 \u001b[1;32mfor\u001b[0m \u001b[0mi\u001b[0m \u001b[1;32min\u001b[0m \u001b[1;33m[\u001b[0m\u001b[1;36m1\u001b[0m\u001b[1;33m,\u001b[0m \u001b[1;33m-\u001b[0m\u001b[1;36m1\u001b[0m\u001b[1;33m]\u001b[0m\u001b[1;33m:\u001b[0m\u001b[1;33m\u001b[0m\u001b[1;33m\u001b[0m\u001b[0m\n\u001b[0;32m    155\u001b[0m                     \u001b[0mself\u001b[0m\u001b[1;33m.\u001b[0m\u001b[0mparams\u001b[0m\u001b[1;33m[\u001b[0m\u001b[0mlayer_index\u001b[0m\u001b[1;33m]\u001b[0m\u001b[1;33m[\u001b[0m\u001b[0mparam_index\u001b[0m\u001b[1;33m]\u001b[0m \u001b[1;33m+=\u001b[0m \u001b[0mi\u001b[0m \u001b[1;33m*\u001b[0m \u001b[0mepsilon\u001b[0m  \u001b[1;31m# shift params\u001b[0m\u001b[1;33m\u001b[0m\u001b[1;33m\u001b[0m\u001b[0m\n\u001b[1;32m--> 156\u001b[1;33m                     \u001b[0mgrad\u001b[0m \u001b[1;33m+=\u001b[0m \u001b[0mi\u001b[0m \u001b[1;33m*\u001b[0m \u001b[0mself\u001b[0m\u001b[1;33m.\u001b[0m\u001b[0mmse_loss\u001b[0m\u001b[1;33m(\u001b[0m\u001b[0mself\u001b[0m\u001b[1;33m.\u001b[0m\u001b[0mforward\u001b[0m\u001b[1;33m(\u001b[0m\u001b[0minput_wfs\u001b[0m\u001b[1;33m,\u001b[0m \u001b[0mself\u001b[0m\u001b[1;33m.\u001b[0m\u001b[0mparams\u001b[0m\u001b[1;33m.\u001b[0m\u001b[0mcopy\u001b[0m\u001b[1;33m(\u001b[0m\u001b[1;33m)\u001b[0m\u001b[1;33m)\u001b[0m\u001b[1;33m,\u001b[0m \u001b[0mlabels\u001b[0m\u001b[1;33m)\u001b[0m\u001b[1;33m\u001b[0m\u001b[1;33m\u001b[0m\u001b[0m\n\u001b[0m\u001b[0;32m    157\u001b[0m                     \u001b[0mself\u001b[0m\u001b[1;33m.\u001b[0m\u001b[0mparams\u001b[0m \u001b[1;33m=\u001b[0m \u001b[0moriginal_params\u001b[0m\u001b[1;33m.\u001b[0m\u001b[0mcopy\u001b[0m\u001b[1;33m(\u001b[0m\u001b[1;33m)\u001b[0m  \u001b[1;31m# reset params to original values\u001b[0m\u001b[1;33m\u001b[0m\u001b[1;33m\u001b[0m\u001b[0m\n\u001b[0;32m    158\u001b[0m                 \u001b[0mlayer_grad\u001b[0m\u001b[1;33m[\u001b[0m\u001b[0mparam_index\u001b[0m\u001b[1;33m]\u001b[0m \u001b[1;33m=\u001b[0m \u001b[0mgrad\u001b[0m \u001b[1;33m/\u001b[0m \u001b[1;36m2\u001b[0m \u001b[1;33m*\u001b[0m \u001b[0mepsilon\u001b[0m\u001b[1;33m\u001b[0m\u001b[1;33m\u001b[0m\u001b[0m\n",
      "\u001b[1;32m~\\Desktop\\Stuff\\4B Term\\ML\\Quantum-Convolutional-Neural-Networks\\qml\\qcnn.py\u001b[0m in \u001b[0;36mforward\u001b[1;34m(self, input_wfs, params)\u001b[0m\n\u001b[0;32m    136\u001b[0m         \u001b[1;32mfor\u001b[0m \u001b[0mindex\u001b[0m\u001b[1;33m,\u001b[0m \u001b[0mwf\u001b[0m \u001b[1;32min\u001b[0m \u001b[0menumerate\u001b[0m\u001b[1;33m(\u001b[0m\u001b[0minput_wfs\u001b[0m\u001b[1;33m)\u001b[0m\u001b[1;33m:\u001b[0m\u001b[1;33m\u001b[0m\u001b[1;33m\u001b[0m\u001b[0m\n\u001b[0;32m    137\u001b[0m             \u001b[0mstate\u001b[0m \u001b[1;33m=\u001b[0m \u001b[0mself\u001b[0m\u001b[1;33m.\u001b[0m\u001b[0membedding\u001b[0m\u001b[1;33m(\u001b[0m\u001b[0mwf\u001b[0m\u001b[1;33m)\u001b[0m\u001b[1;33m\u001b[0m\u001b[1;33m\u001b[0m\u001b[0m\n\u001b[1;32m--> 138\u001b[1;33m             \u001b[0mstate\u001b[0m \u001b[1;33m=\u001b[0m \u001b[0mstate\u001b[0m\u001b[1;33m.\u001b[0m\u001b[0mevolve\u001b[0m\u001b[1;33m(\u001b[0m\u001b[0mcirc\u001b[0m\u001b[1;33m)\u001b[0m\u001b[1;33m\u001b[0m\u001b[1;33m\u001b[0m\u001b[0m\n\u001b[0m\u001b[0;32m    139\u001b[0m             \u001b[1;31m# state = mQ.my_evolve(circ, self.num_qubits, self.embedding(wf))\u001b[0m\u001b[1;33m\u001b[0m\u001b[1;33m\u001b[0m\u001b[1;33m\u001b[0m\u001b[0m\n\u001b[0;32m    140\u001b[0m \u001b[1;33m\u001b[0m\u001b[0m\n",
      "\u001b[1;32m~\\Anaconda3\\lib\\site-packages\\qiskit\\quantum_info\\states\\statevector.py\u001b[0m in \u001b[0;36mevolve\u001b[1;34m(self, other, qargs)\u001b[0m\n\u001b[0;32m    229\u001b[0m             \u001b[1;32mif\u001b[0m \u001b[0mself\u001b[0m\u001b[1;33m.\u001b[0m\u001b[0mnum_qubits\u001b[0m \u001b[1;32mis\u001b[0m \u001b[1;32mNone\u001b[0m\u001b[1;33m:\u001b[0m\u001b[1;33m\u001b[0m\u001b[1;33m\u001b[0m\u001b[0m\n\u001b[0;32m    230\u001b[0m                 \u001b[1;32mraise\u001b[0m \u001b[0mQiskitError\u001b[0m\u001b[1;33m(\u001b[0m\u001b[1;34m\"Cannot apply QuantumCircuit to non-qubit Statevector.\"\u001b[0m\u001b[1;33m)\u001b[0m\u001b[1;33m\u001b[0m\u001b[1;33m\u001b[0m\u001b[0m\n\u001b[1;32m--> 231\u001b[1;33m             \u001b[1;32mreturn\u001b[0m \u001b[0mself\u001b[0m\u001b[1;33m.\u001b[0m\u001b[0m_evolve_instruction\u001b[0m\u001b[1;33m(\u001b[0m\u001b[0mret\u001b[0m\u001b[1;33m,\u001b[0m \u001b[0mother\u001b[0m\u001b[1;33m,\u001b[0m \u001b[0mqargs\u001b[0m\u001b[1;33m=\u001b[0m\u001b[0mqargs\u001b[0m\u001b[1;33m)\u001b[0m\u001b[1;33m\u001b[0m\u001b[1;33m\u001b[0m\u001b[0m\n\u001b[0m\u001b[0;32m    232\u001b[0m \u001b[1;33m\u001b[0m\u001b[0m\n\u001b[0;32m    233\u001b[0m         \u001b[1;31m# Evolution by an Operator\u001b[0m\u001b[1;33m\u001b[0m\u001b[1;33m\u001b[0m\u001b[1;33m\u001b[0m\u001b[0m\n",
      "\u001b[1;32m~\\Anaconda3\\lib\\site-packages\\qiskit\\quantum_info\\states\\statevector.py\u001b[0m in \u001b[0;36m_evolve_instruction\u001b[1;34m(statevec, obj, qargs)\u001b[0m\n\u001b[0;32m    688\u001b[0m             \u001b[1;32melse\u001b[0m\u001b[1;33m:\u001b[0m\u001b[1;33m\u001b[0m\u001b[1;33m\u001b[0m\u001b[0m\n\u001b[0;32m    689\u001b[0m                 \u001b[0mnew_qargs\u001b[0m \u001b[1;33m=\u001b[0m \u001b[1;33m[\u001b[0m\u001b[0mqargs\u001b[0m\u001b[1;33m[\u001b[0m\u001b[0mtup\u001b[0m\u001b[1;33m.\u001b[0m\u001b[0mindex\u001b[0m\u001b[1;33m]\u001b[0m \u001b[1;32mfor\u001b[0m \u001b[0mtup\u001b[0m \u001b[1;32min\u001b[0m \u001b[0mqregs\u001b[0m\u001b[1;33m]\u001b[0m\u001b[1;33m\u001b[0m\u001b[1;33m\u001b[0m\u001b[0m\n\u001b[1;32m--> 690\u001b[1;33m             \u001b[0mStatevector\u001b[0m\u001b[1;33m.\u001b[0m\u001b[0m_evolve_instruction\u001b[0m\u001b[1;33m(\u001b[0m\u001b[0mstatevec\u001b[0m\u001b[1;33m,\u001b[0m \u001b[0minstr\u001b[0m\u001b[1;33m,\u001b[0m \u001b[0mqargs\u001b[0m\u001b[1;33m=\u001b[0m\u001b[0mnew_qargs\u001b[0m\u001b[1;33m)\u001b[0m\u001b[1;33m\u001b[0m\u001b[1;33m\u001b[0m\u001b[0m\n\u001b[0m\u001b[0;32m    691\u001b[0m         \u001b[1;32mreturn\u001b[0m \u001b[0mstatevec\u001b[0m\u001b[1;33m\u001b[0m\u001b[1;33m\u001b[0m\u001b[0m\n",
      "\u001b[1;32m~\\Anaconda3\\lib\\site-packages\\qiskit\\quantum_info\\states\\statevector.py\u001b[0m in \u001b[0;36m_evolve_instruction\u001b[1;34m(statevec, obj, qargs)\u001b[0m\n\u001b[0;32m    659\u001b[0m             \u001b[1;31m# Perform the composition and inplace update the current state\u001b[0m\u001b[1;33m\u001b[0m\u001b[1;33m\u001b[0m\u001b[1;33m\u001b[0m\u001b[0m\n\u001b[0;32m    660\u001b[0m             \u001b[1;31m# of the operator\u001b[0m\u001b[1;33m\u001b[0m\u001b[1;33m\u001b[0m\u001b[1;33m\u001b[0m\u001b[0m\n\u001b[1;32m--> 661\u001b[1;33m             \u001b[1;32mreturn\u001b[0m \u001b[0mStatevector\u001b[0m\u001b[1;33m.\u001b[0m\u001b[0m_evolve_operator\u001b[0m\u001b[1;33m(\u001b[0m\u001b[0mstatevec\u001b[0m\u001b[1;33m,\u001b[0m \u001b[0mOperator\u001b[0m\u001b[1;33m(\u001b[0m\u001b[0mmat\u001b[0m\u001b[1;33m)\u001b[0m\u001b[1;33m,\u001b[0m \u001b[0mqargs\u001b[0m\u001b[1;33m=\u001b[0m\u001b[0mqargs\u001b[0m\u001b[1;33m)\u001b[0m\u001b[1;33m\u001b[0m\u001b[1;33m\u001b[0m\u001b[0m\n\u001b[0m\u001b[0;32m    662\u001b[0m \u001b[1;33m\u001b[0m\u001b[0m\n\u001b[0;32m    663\u001b[0m         \u001b[1;31m# Special instruction types\u001b[0m\u001b[1;33m\u001b[0m\u001b[1;33m\u001b[0m\u001b[1;33m\u001b[0m\u001b[0m\n",
      "\u001b[1;32m~\\Anaconda3\\lib\\site-packages\\qiskit\\quantum_info\\states\\statevector.py\u001b[0m in \u001b[0;36m_evolve_operator\u001b[1;34m(statevec, oper, qargs)\u001b[0m\n\u001b[0;32m    641\u001b[0m         statevec._data = np.reshape(np.transpose(\n\u001b[0;32m    642\u001b[0m             np.reshape(statevec.data, pre_tensor_shape), axes), contract_shape)\n\u001b[1;32m--> 643\u001b[1;33m         \u001b[0mstatevec\u001b[0m\u001b[1;33m.\u001b[0m\u001b[0m_data\u001b[0m \u001b[1;33m=\u001b[0m \u001b[0mnp\u001b[0m\u001b[1;33m.\u001b[0m\u001b[0mreshape\u001b[0m\u001b[1;33m(\u001b[0m\u001b[0mnp\u001b[0m\u001b[1;33m.\u001b[0m\u001b[0mdot\u001b[0m\u001b[1;33m(\u001b[0m\u001b[0moper\u001b[0m\u001b[1;33m.\u001b[0m\u001b[0mdata\u001b[0m\u001b[1;33m,\u001b[0m \u001b[0mstatevec\u001b[0m\u001b[1;33m.\u001b[0m\u001b[0m_data\u001b[0m\u001b[1;33m)\u001b[0m\u001b[1;33m,\u001b[0m \u001b[0mpost_tensor_shape\u001b[0m\u001b[1;33m)\u001b[0m\u001b[1;33m\u001b[0m\u001b[1;33m\u001b[0m\u001b[0m\n\u001b[0m\u001b[0;32m    644\u001b[0m         \u001b[0mstatevec\u001b[0m\u001b[1;33m.\u001b[0m\u001b[0m_data\u001b[0m \u001b[1;33m=\u001b[0m \u001b[0mnp\u001b[0m\u001b[1;33m.\u001b[0m\u001b[0mreshape\u001b[0m\u001b[1;33m(\u001b[0m\u001b[0mnp\u001b[0m\u001b[1;33m.\u001b[0m\u001b[0mtranspose\u001b[0m\u001b[1;33m(\u001b[0m\u001b[0mstatevec\u001b[0m\u001b[1;33m.\u001b[0m\u001b[0m_data\u001b[0m\u001b[1;33m,\u001b[0m \u001b[0maxes_inv\u001b[0m\u001b[1;33m)\u001b[0m\u001b[1;33m,\u001b[0m \u001b[0mnew_dim\u001b[0m\u001b[1;33m)\u001b[0m\u001b[1;33m\u001b[0m\u001b[1;33m\u001b[0m\u001b[0m\n\u001b[0;32m    645\u001b[0m \u001b[1;33m\u001b[0m\u001b[0m\n",
      "\u001b[1;32m<__array_function__ internals>\u001b[0m in \u001b[0;36mdot\u001b[1;34m(*args, **kwargs)\u001b[0m\n",
      "\u001b[1;31mKeyboardInterrupt\u001b[0m: "
     ]
    }
   ],
   "source": [
    "## Learning as described in paper: \n",
    "learning_rate = 10\n",
    "successive_loss = 1.0 # initialize to arbitrary value > 10^-5\n",
    "loss_lst = []  # initialize \n",
    "iteration_num = 1 \n",
    "\n",
    "while (abs(successive_loss) > 1e-5) and (iteration_num < 1000):\n",
    "    pred = my_qcnn.forward(train_data, my_qcnn.params.copy())\n",
    "    loss = my_qcnn.mse_loss(pred, labels)\n",
    "    \n",
    "    print(\"---- Iteration : {}, Loss {} ----------------------\".format(iteration_num, loss))\n",
    "    \n",
    "    if iteration_num == 1:\n",
    "        pass \n",
    "    \n",
    "    else: \n",
    "        successive_loss = loss - loss_lst[-1]       \n",
    "        if successive_loss < 0: \n",
    "            learning_rate *= 1.05  # if loss decreases, increase learning rate by 5%\n",
    "        else:\n",
    "            learning_rate /= 2  # if it gets bigger, decrease learning rate by 50% \n",
    "            \n",
    "    grad_mat = my_qcnn.compute_grad(train_data, labels)\n",
    "    my_qcnn.update_params(grad_mat, learning_rate)\n",
    "    \n",
    "    loss_lst.append(loss)\n",
    "    iteration_num += 1 \n",
    "    \n",
    "params = copy.deepcopy(my_qcnn.params)\n"
   ]
  },
  {
   "cell_type": "code",
   "execution_count": 6,
   "metadata": {},
   "outputs": [],
   "source": [
    "# print(params)  ## extracting parameters to save future training time "
   ]
  },
  {
   "cell_type": "code",
   "execution_count": 6,
   "metadata": {},
   "outputs": [
    {
     "name": "stdout",
     "output_type": "stream",
     "text": [
      "got predictions!\n"
     ]
    }
   ],
   "source": [
    "## Using model on test data (graph visualization) :\n",
    "predictions = my_qcnn.forward(test_data, my_qcnn.params.copy())\n",
    "print('got predictions!')"
   ]
  },
  {
   "cell_type": "code",
   "execution_count": 7,
   "metadata": {},
   "outputs": [
    {
     "data": {
      "image/png": "[encoded data removed]",
      "text/plain": [
       "<Figure size 432x288 with 2 Axes>"
      ]
     },
     "metadata": {
      "needs_background": "light"
     },
     "output_type": "display_data"
    }
   ],
   "source": [
    "flipped_pred_mat = predictions.reshape((64, 32), order='F')\n",
    "pred_mat = []\n",
    "for row_index in np.arange(len(flipped_pred_mat) - 1, -1, -1):\n",
    "    pred_mat.append(flipped_pred_mat[row_index])\n",
    "\n",
    "pred_mat = np.array(pred_mat)\n",
    "\n",
    "heat_map = plt.imshow(pred_mat, cmap = 'autumn', interpolation = 'nearest')\n",
    "plt.colorbar(heat_map, label=\"Exp_val X\")\n",
    "plt.title( \"2-D Heat Map\" )\n",
    "plt.xlabel('h1/J')\n",
    "plt.ylabel('h2/J')\n",
    "plt.show()"
   ]
  },
  {
   "cell_type": "code",
   "execution_count": 8,
   "metadata": {},
   "outputs": [],
   "source": [
    "## heat_map for initial params (graph visualization) :\n",
    "initial_predictions = my_qcnn.forward(test_data, initial_params)"
   ]
  },
  {
   "cell_type": "code",
   "execution_count": 10,
   "metadata": {},
   "outputs": [
    {
     "name": "stdout",
     "output_type": "stream",
     "text": [
      "[array([5.3347288 , 2.26194265, 1.10909039, 2.80740463, 1.28179986,\n",
      "       2.90595563, 5.40751368, 1.70328294, 5.69055601, 4.93689722,\n",
      "       5.85028392, 3.20999165, 2.15694205, 4.26260098, 1.38603625]), array([3.39790714, 1.81337652, 3.72512365, 1.08582212, 3.93910632,\n",
      "       2.58313662]), array([0.71872596, 3.54442608, 0.93092788])]\n"
     ]
    }
   ],
   "source": [
    "print(initial_params)"
   ]
  },
  {
   "cell_type": "code",
   "execution_count": 9,
   "metadata": {},
   "outputs": [
    {
     "data": {
      "image/png": "[encoded data removed]",
      "text/plain": [
       "<Figure size 432x288 with 2 Axes>"
      ]
     },
     "metadata": {
      "needs_background": "light"
     },
     "output_type": "display_data"
    }
   ],
   "source": [
    "flipped_pred_mat = initial_predictions.reshape((64, 32), order='F')\n",
    "pred_mat = []\n",
    "for row_index in np.arange(len(flipped_pred_mat) - 1, -1, -1):\n",
    "    pred_mat.append(flipped_pred_mat[row_index])\n",
    "\n",
    "pred_mat = np.array(pred_mat)\n",
    "\n",
    "heat_map = plt.imshow(pred_mat, cmap = 'autumn', interpolation = 'nearest')\n",
    "plt.colorbar(heat_map, label=\"Exp_val X\")\n",
    "plt.title( \"2-D Heat Map\" )\n",
    "plt.xlabel('h1/J')\n",
    "plt.ylabel('h2/J')\n",
    "plt.show()"
   ]
  },
  {
   "cell_type": "code",
   "execution_count": 8,
   "metadata": {},
   "outputs": [
    {
     "data": {
      "image/png": "[encoded data removed]",
      "text/plain": [
       "<Figure size 432x288 with 1 Axes>"
      ]
     },
     "metadata": {
      "needs_background": "light"
     },
     "output_type": "display_data"
    }
   ],
   "source": [
    "## Loss plot: \n",
    "x_axis = range(len(loss_lst))\n",
    "\n",
    "plt.plot(x_axis, loss_lst)\n",
    "plt.show()"
   ]
  },
  {
   "cell_type": "markdown",
   "metadata": {},
   "source": [
    "### Experimental Learning Approach: "
   ]
  },
  {
   "cell_type": "code",
   "execution_count": null,
   "metadata": {},
   "outputs": [],
   "source": [
    "## Experimental Learning approach: \n",
    "num_epoches = 100\n",
    "batch_size = 10\n",
    "learning_rate = 10\n"
   ]
  },
  {
   "cell_type": "markdown",
   "metadata": {},
   "source": [
    "### Helper function for testing internal tools"
   ]
  },
  {
   "cell_type": "code",
   "execution_count": 20,
   "metadata": {},
   "outputs": [
    {
     "name": "stdout",
     "output_type": "stream",
     "text": [
      "(0.09406795455625483+0j)\n"
     ]
    }
   ],
   "source": [
    "from qiskit import quantum_info as qi\n",
    "from qiskit import QuantumCircuit\n",
    "num_qubits = 3\n",
    "\n",
    "random_state = qi.random_statevector(2**num_qubits)\n",
    "state_vector = random_state.data  # the actual vector of a1, a2, ... , a2^n\n",
    "\n",
    "# technical note, the probabilities are actually given by (ai)^2 \n",
    "state_vector = np.array(state_vector)\n",
    "probability_vector = (np.abs(state_vector))**2    # this is what you use to compute your expectation value ! \n",
    "\n",
    "# sanity check : \n",
    "# print(state_vector) # can be real or imaginary \n",
    "# print(probability_vector) # all real \n",
    "# print(np.sum(probability_vector)) # must be 1 \n",
    "\n",
    "\n",
    "def middle_qubit_exp_value(state_vect, num_qubits):\n",
    "    middle_qubit_index = num_qubits // 2\n",
    "\n",
    "    operator_circ = QuantumCircuit(num_qubits)          # define the circuit for the operator we want to computer\n",
    "    operator_circ.x(middle_qubit_index)                 # expectation value for\n",
    "    operator_circ = operator_circ.reverse_bits()\n",
    "\n",
    "    operator = qi.Operator(operator_circ)               # operator of interest\n",
    "    exp_value = state_vect.expectation_value(operator)  # expectation value of X operator on middle qubit\n",
    "\n",
    "    return exp_value\n",
    "\n",
    "## Your Exp should match this value: \n",
    "exp_val = middle_qubit_exp_value(random_state, num_qubits)\n",
    "print(exp_val)"
   ]
  },
  {
   "cell_type": "code",
   "execution_count": null,
   "metadata": {},
   "outputs": [],
   "source": []
  }
 ],
 "metadata": {
  "kernelspec": {
   "display_name": "Python 3",
   "language": "python",
   "name": "python3"
  },
  "language_info": {
   "codemirror_mode": {
    "name": "ipython",
    "version": 3
   },
   "file_extension": ".py",
   "mimetype": "text/x-python",
   "name": "python",
   "nbconvert_exporter": "python",
   "pygments_lexer": "ipython3",
   "version": "3.7.4"
  }
 },
 "nbformat": 4,
 "nbformat_minor": 2
}
