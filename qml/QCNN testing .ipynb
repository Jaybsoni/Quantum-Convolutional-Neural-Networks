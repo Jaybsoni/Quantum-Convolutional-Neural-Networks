{
 "cells": [
  {
   "cell_type": "code",
   "execution_count": 1,
   "metadata": {},
   "outputs": [],
   "source": [
    "import numpy as np\n",
    "import matplotlib.pyplot as plt \n",
    "import qcnn as q"
   ]
  },
  {
   "cell_type": "code",
   "execution_count": 2,
   "metadata": {},
   "outputs": [],
   "source": [
    "## read / import data \n",
    "num_qubits = 8\n",
    "training_fname = \"example_training_data_n8.txt\"\n",
    "test_fname = \"example_test_data_n8.txt\"\n",
    "\n",
    "def read_eigenvectors(file):\n",
    "    with open(file, 'r+') as f:\n",
    "        textData = f.readlines()\n",
    "\n",
    "        h_vals = []\n",
    "        for i in range(len(textData)):\n",
    "            h1h2, eigenvector = textData[i].split(\"_\")\n",
    "\n",
    "            h_vals.append(tuple(map(float, h1h2[1: -1].split(', '))))\n",
    "            textData[i] = eigenvector\n",
    "\n",
    "        return h_vals, np.loadtxt(textData, dtype=complex)\n",
    "\n",
    "h1h2_train, train_data = read_eigenvectors(training_fname)\n",
    "h1h2_test, test_data = read_eigenvectors(test_fname)\n",
    "\n",
    "labels = np.zeros(40)\n",
    "\n",
    "for index, h1h2 in enumerate(h1h2_train):\n",
    "    h1, h2 = h1h2\n",
    "    if h1 <= 1: \n",
    "        labels[index] = 1.0\n",
    "\n",
    "# for h1h2, label in zip(h1h2_train, labels):\n",
    "#     print(h1h2, label)\n"
   ]
  },
  {
   "cell_type": "code",
   "execution_count": 3,
   "metadata": {
    "scrolled": false
   },
   "outputs": [],
   "source": [
    "## Model \n",
    "my_qcnn = q.Qcnn(num_qubits)\n",
    "\n",
    "## def structure: \n",
    "conv4_kwargs = {\"label\":\"C4_1\"} \n",
    "first_conv_kwargs = {\"label\": \"C2\"}\n",
    "second_conv_kwargs = {\"label\": \"C3\", \n",
    "                      \"start_index\": 1}\n",
    "third_conv_kwargs = {\"label\": \"C4\", \n",
    "                     \"start_index\": 2}\n",
    "pool_kwargs = {\"label\": \"P1\", \n",
    "               \"update_active_qubits\": {\"group_len\": 3, \"target\": 1}}\n",
    "\n",
    "my_qcnn.add_layer(my_qcnn.Layers[\"legacy_conv4_layer\"], conv4_kwargs)\n",
    "# my_qcnn.add_layer(my_qcnn.Layers[\"legacy_conv4_layer\"], conv4_kwargs)\n",
    "# my_qcnn.add_layer(my_qcnn.Layers[\"legacy_conv_layer\"], first_conv_kwargs)\n",
    "# my_qcnn.add_layer(my_qcnn.Layers[\"legacy_conv_layer\"], second_conv_kwargs)\n",
    "# my_qcnn.add_layer(my_qcnn.Layers[\"legacy_conv_layer\"], third_conv_kwargs)\n",
    "my_qcnn.add_layer(my_qcnn.Layers[\"legacy_pool_layer\"], pool_kwargs)\n",
    "\n",
    "my_qcnn.initialize_params(random=True)\n",
    "\n",
    "## visual check : \n",
    "# circ = my_qcnn.generate_circ()\n",
    "# circ.draw(reverse_bits=True)"
   ]
  },
  {
   "cell_type": "markdown",
   "metadata": {},
   "source": [
    "### Learning as described in paper: "
   ]
  },
  {
   "cell_type": "code",
   "execution_count": 4,
   "metadata": {},
   "outputs": [
    {
     "name": "stderr",
     "output_type": "stream",
     "text": [
      "C:\\Users\\jay_s\\Desktop\\Stuff\\4B Term\\ML\\Quantum-Convolutional-Neural-Networks\\qml\\qcnn.py:132: ComplexWarning: Casting complex values to real discards the imaginary part\n",
      "  predictions[index] = self.middle_qubit_exp_value(state)\n"
     ]
    },
    {
     "name": "stdout",
     "output_type": "stream",
     "text": [
      "---- Iteration : 1, Loss 0.820783446241905 ----------------------\n",
      "[array([1., 1., 1., 1., 1., 1., 1., 1., 1., 1., 1., 1., 1., 1., 1.]), array([[1., 1., 1.],\n",
      "       [1., 1., 1.]])]\n",
      "[array([-9.29838322e-10, -2.40638079e-09, -1.04497354e-09,  1.22524146e-09,\n",
      "       -1.88014481e-09, -1.33729486e-09,  1.04135488e-10, -9.62213097e-10,\n",
      "       -3.23038382e-10, -1.64325546e-09, -2.33701864e-09, -1.05794850e-09,\n",
      "       -1.19789011e-09,  1.18704513e-09, -4.50995967e-11]), array([ 1.18332439e-09, -2.17506116e-10])]\n"
     ]
    },
    {
     "ename": "ValueError",
     "evalue": "operands could not be broadcast together with shapes (2,3) (2,) (2,3) ",
     "output_type": "error",
     "traceback": [
      "\u001b[1;31m---------------------------------------------------------------------------\u001b[0m",
      "\u001b[1;31mValueError\u001b[0m                                Traceback (most recent call last)",
      "\u001b[1;32m<ipython-input-4-6739d9da5a96>\u001b[0m in \u001b[0;36m<module>\u001b[1;34m\u001b[0m\n\u001b[0;32m     22\u001b[0m \u001b[1;33m\u001b[0m\u001b[0m\n\u001b[0;32m     23\u001b[0m     \u001b[0mgrad_mat\u001b[0m \u001b[1;33m=\u001b[0m \u001b[0mmy_qcnn\u001b[0m\u001b[1;33m.\u001b[0m\u001b[0mcompute_grad\u001b[0m\u001b[1;33m(\u001b[0m\u001b[0mtrain_data\u001b[0m\u001b[1;33m,\u001b[0m \u001b[0mlabels\u001b[0m\u001b[1;33m)\u001b[0m\u001b[1;33m\u001b[0m\u001b[1;33m\u001b[0m\u001b[0m\n\u001b[1;32m---> 24\u001b[1;33m     \u001b[0mmy_qcnn\u001b[0m\u001b[1;33m.\u001b[0m\u001b[0mupdate_params\u001b[0m\u001b[1;33m(\u001b[0m\u001b[0mgrad_mat\u001b[0m\u001b[1;33m,\u001b[0m \u001b[0mlearning_rate\u001b[0m\u001b[1;33m)\u001b[0m\u001b[1;33m\u001b[0m\u001b[1;33m\u001b[0m\u001b[0m\n\u001b[0m\u001b[0;32m     25\u001b[0m \u001b[1;33m\u001b[0m\u001b[0m\n\u001b[0;32m     26\u001b[0m     \u001b[0mloss_lst\u001b[0m\u001b[1;33m.\u001b[0m\u001b[0mappend\u001b[0m\u001b[1;33m(\u001b[0m\u001b[0mloss\u001b[0m\u001b[1;33m)\u001b[0m\u001b[1;33m\u001b[0m\u001b[1;33m\u001b[0m\u001b[0m\n",
      "\u001b[1;32m~\\Desktop\\Stuff\\4B Term\\ML\\Quantum-Convolutional-Neural-Networks\\qml\\qcnn.py\u001b[0m in \u001b[0;36mupdate_params\u001b[1;34m(self, gradient_mat, learning_rate)\u001b[0m\n\u001b[0;32m    165\u001b[0m             \u001b[1;31m# print(learning_rate)\u001b[0m\u001b[1;33m\u001b[0m\u001b[1;33m\u001b[0m\u001b[1;33m\u001b[0m\u001b[0m\n\u001b[0;32m    166\u001b[0m             \u001b[1;31m# print(grad_layer)\u001b[0m\u001b[1;33m\u001b[0m\u001b[1;33m\u001b[0m\u001b[1;33m\u001b[0m\u001b[0m\n\u001b[1;32m--> 167\u001b[1;33m             \u001b[0mparam_layer\u001b[0m \u001b[1;33m-=\u001b[0m \u001b[0mlearning_rate\u001b[0m \u001b[1;33m*\u001b[0m \u001b[0mgrad_layer\u001b[0m  \u001b[1;31m# step in direction of -grad with size learning rate\u001b[0m\u001b[1;33m\u001b[0m\u001b[1;33m\u001b[0m\u001b[0m\n\u001b[0m\u001b[0;32m    168\u001b[0m         \u001b[1;32mreturn\u001b[0m\u001b[1;33m\u001b[0m\u001b[1;33m\u001b[0m\u001b[0m\n\u001b[0;32m    169\u001b[0m \u001b[1;33m\u001b[0m\u001b[0m\n",
      "\u001b[1;31mValueError\u001b[0m: operands could not be broadcast together with shapes (2,3) (2,) (2,3) "
     ]
    }
   ],
   "source": [
    "## Learning as described in paper: \n",
    "learning_rate = 10\n",
    "successive_loss = 1.0 # initialize to arbitrary value > 10^-5\n",
    "loss_lst = []  # initialize \n",
    "iteration_num = 1 \n",
    "\n",
    "while (abs(successive_loss) > 1e-5) and (iteration_num < 1000):\n",
    "    pred = my_qcnn.forward(train_data)\n",
    "    loss = my_qcnn.mse_loss(pred, labels)\n",
    "    \n",
    "    print(\"---- Iteration : {}, Loss {} ----------------------\".format(iteration_num, loss))\n",
    "    \n",
    "    if iteration_num == 1:\n",
    "        pass \n",
    "    \n",
    "    else: \n",
    "        successive_loss = loss - loss_lst[-1]       \n",
    "        if successive_loss < 0: \n",
    "            learning_rate *= 1.05  # if loss decreases, increase learning rate by 5%\n",
    "        else:\n",
    "            learning_rate /= 2  # if it gets bigger, decrease learning rate by 50% \n",
    "            \n",
    "    grad_mat = my_qcnn.compute_grad(train_data, labels)\n",
    "    my_qcnn.update_params(grad_mat, learning_rate)\n",
    "    \n",
    "    loss_lst.append(loss)\n",
    "    iteration_num += 1 \n",
    "    \n",
    "params = my_qcnn.params\n"
   ]
  },
  {
   "cell_type": "code",
   "execution_count": 4,
   "metadata": {},
   "outputs": [],
   "source": [
    "# print(params)  ## extracting parameters to save future training time "
   ]
  },
  {
   "cell_type": "code",
   "execution_count": 5,
   "metadata": {},
   "outputs": [
    {
     "name": "stdout",
     "output_type": "stream",
     "text": [
      "got predictions!\n"
     ]
    }
   ],
   "source": [
    "## Using model on test data (graph visualization) :\n",
    "predictions = my_qcnn.forward(test_data)\n",
    "print('got predictions!')"
   ]
  },
  {
   "cell_type": "code",
   "execution_count": 6,
   "metadata": {},
   "outputs": [
    {
     "data": {
      "image/png": "[encoded data removed]",
      "text/plain": [
       "<Figure size 432x288 with 2 Axes>"
      ]
     },
     "metadata": {
      "needs_background": "light"
     },
     "output_type": "display_data"
    }
   ],
   "source": [
    "flipped_pred_mat = predictions.reshape((64, 32), order='F')\n",
    "pred_mat = []\n",
    "for row_index in np.arange(len(flipped_pred_mat) - 1, -1, -1):\n",
    "    pred_mat.append(flipped_pred_mat[row_index])\n",
    "\n",
    "pred_mat = np.array(pred_mat)\n",
    "\n",
    "heat_map = plt.imshow(pred_mat, cmap = 'autumn', interpolation = 'nearest')\n",
    "plt.colorbar(heat_map, label=\"Exp_val X\")\n",
    "plt.title( \"2-D Heat Map\" )\n",
    "plt.xlabel('h1/J')\n",
    "plt.ylabel('h2/J')\n",
    "plt.show()"
   ]
  },
  {
   "cell_type": "code",
   "execution_count": 8,
   "metadata": {},
   "outputs": [
    {
     "data": {
      "image/png": "[encoded data removed]",
      "text/plain": [
       "<Figure size 432x288 with 1 Axes>"
      ]
     },
     "metadata": {
      "needs_background": "light"
     },
     "output_type": "display_data"
    }
   ],
   "source": [
    "## Loss plot: \n",
    "x_axis = range(len(loss_lst))\n",
    "\n",
    "plt.plot(x_axis, loss_lst)\n",
    "plt.show()"
   ]
  },
  {
   "cell_type": "markdown",
   "metadata": {},
   "source": [
    "### Experimental Learning Approach: "
   ]
  },
  {
   "cell_type": "code",
   "execution_count": null,
   "metadata": {},
   "outputs": [],
   "source": [
    "## Experimental Learning approach: \n",
    "num_epoches = 100\n",
    "batch_size = 10\n",
    "learning_rate = 10\n"
   ]
  },
  {
   "cell_type": "markdown",
   "metadata": {},
   "source": [
    "### Helper function for testing internal tools"
   ]
  },
  {
   "cell_type": "code",
   "execution_count": 20,
   "metadata": {},
   "outputs": [
    {
     "name": "stdout",
     "output_type": "stream",
     "text": [
      "(0.09406795455625483+0j)\n"
     ]
    }
   ],
   "source": [
    "from qiskit import quantum_info as qi\n",
    "from qiskit import QuantumCircuit\n",
    "num_qubits = 3\n",
    "\n",
    "random_state = qi.random_statevector(2**num_qubits)\n",
    "state_vector = random_state.data  # the actual vector of a1, a2, ... , a2^n\n",
    "\n",
    "# technical note, the probabilities are actually given by (ai)^2 \n",
    "state_vector = np.array(state_vector)\n",
    "probability_vector = (np.abs(state_vector))**2    # this is what you use to compute your expectation value ! \n",
    "\n",
    "# sanity check : \n",
    "# print(state_vector) # can be real or imaginary \n",
    "# print(probability_vector) # all real \n",
    "# print(np.sum(probability_vector)) # must be 1 \n",
    "\n",
    "\n",
    "def middle_qubit_exp_value(state_vect, num_qubits):\n",
    "    middle_qubit_index = num_qubits // 2\n",
    "\n",
    "    operator_circ = QuantumCircuit(num_qubits)          # define the circuit for the operator we want to computer\n",
    "    operator_circ.x(middle_qubit_index)                 # expectation value for\n",
    "    operator_circ = operator_circ.reverse_bits()\n",
    "\n",
    "    operator = qi.Operator(operator_circ)               # operator of interest\n",
    "    exp_value = state_vect.expectation_value(operator)  # expectation value of X operator on middle qubit\n",
    "\n",
    "    return exp_value\n",
    "\n",
    "## Your Exp should match this value: \n",
    "exp_val = middle_qubit_exp_value(random_state, num_qubits)\n",
    "print(exp_val)"
   ]
  },
  {
   "cell_type": "code",
   "execution_count": null,
   "metadata": {},
   "outputs": [],
   "source": []
  }
 ],
 "metadata": {
  "kernelspec": {
   "display_name": "Python 3",
   "language": "python",
   "name": "python3"
  },
  "language_info": {
   "codemirror_mode": {
    "name": "ipython",
    "version": 3
   },
   "file_extension": ".py",
   "mimetype": "text/x-python",
   "name": "python",
   "nbconvert_exporter": "python",
   "pygments_lexer": "ipython3",
   "version": "3.7.4"
  }
 },
 "nbformat": 4,
 "nbformat_minor": 2
}
