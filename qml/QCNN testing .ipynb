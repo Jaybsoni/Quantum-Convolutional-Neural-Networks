{
 "cells": [
  {
   "cell_type": "code",
   "execution_count": 1,
   "metadata": {},
   "outputs": [],
   "source": [
    "import numpy as np\n",
    "import matplotlib.pyplot as plt \n",
    "import qcnn as q\n",
    "import layers as cl # custom layers \n",
    "import copy"
   ]
  },
  {
   "cell_type": "code",
   "execution_count": 2,
   "metadata": {},
   "outputs": [],
   "source": [
    "## read / import data \n",
    "num_qubits = 8\n",
    "training_fname = \"./data/example_training_data_n8.txt\"\n",
    "test_fname = \"./data/example_test_data_n8.txt\"\n",
    "\n",
    "def read_eigenvectors(file):\n",
    "    with open(file, 'r+') as f:\n",
    "        textData = f.readlines()\n",
    "\n",
    "        h_vals = []\n",
    "        for i in range(len(textData)):\n",
    "            h1h2, eigenvector = textData[i].split(\"_\")\n",
    "\n",
    "            h_vals.append(tuple(map(float, h1h2[1: -1].split(', '))))\n",
    "            textData[i] = eigenvector\n",
    "\n",
    "        return h_vals, np.loadtxt(textData, dtype=complex)\n",
    "\n",
    "h1h2_train, train_data = read_eigenvectors(training_fname)\n",
    "h1h2_test, test_data = read_eigenvectors(test_fname)\n",
    "\n",
    "labels = np.zeros(40)\n",
    "\n",
    "for index, h1h2 in enumerate(h1h2_train):\n",
    "    h1, h2 = h1h2\n",
    "    if h1 <= 1: \n",
    "        labels[index] = 1.0\n",
    "\n",
    "# for h1h2, label in zip(h1h2_train, labels):\n",
    "#     print(h1h2, label)\n"
   ]
  },
  {
   "cell_type": "code",
   "execution_count": 7,
   "metadata": {
    "scrolled": false
   },
   "outputs": [],
   "source": [
    "## Model \n",
    "my_qcnn = q.Qcnn(num_qubits)\n",
    "\n",
    "## Add Custom layer: \n",
    "legacy_fully_connected_layer = cl.get_legacy_fc_layer(num_qubits // 3)  # because we will be pooling out 2/3 of the qubits \n",
    "my_qcnn.Layers[legacy_fully_connected_layer.name] = legacy_fully_connected_layer # we have to add it to our model class variable\n",
    "\n",
    "\n",
    "## def structure: \n",
    "my_qcnn.add_layer(my_qcnn.Layers[\"legacy_conv4_layer\"], kwargs={\"label\":\"C4_1\"} )\n",
    "my_qcnn.add_layer(my_qcnn.Layers[\"legacy_conv_layer\"], kwargs={\"label\": \"C2\"})\n",
    "# my_qcnn.add_layer(my_qcnn.Layers[\"legacy_conv_layer\"], kwargs={\"label\": \"C3\", \"start_index\": 1})\n",
    "# my_qcnn.add_layer(my_qcnn.Layers[\"legacy_conv_layer\"], kwargs={\"label\": \"C4\", \"start_index\": 2})\n",
    "my_qcnn.add_layer(my_qcnn.Layers[\"legacy_pool_layer\"], kwargs={\"label\": \"P1\", \n",
    "                                                               \"update_active_qubits\": {\"group_len\": 3, \"target\": 1}})\n",
    "                                                              # after this we have pooled out 2 out of every 3 qubits \n",
    "\n",
    "my_qcnn.add_layer(my_qcnn.Layers[legacy_fully_connected_layer.name], kwargs={})  # this is the custom layer we added earlier ! \n",
    "\n",
    "## Initialize parameters: \n",
    "my_qcnn.initialize_params(random=True)\n",
    "initial_params = copy.deepcopy(my_qcnn.params)\n",
    "\n",
    "## visual check : \n",
    "# circ = my_qcnn.generate_circ(my_qcnn.params)\n",
    "# circ.draw(reverse_bits=True)"
   ]
  },
  {
   "cell_type": "markdown",
   "metadata": {},
   "source": [
    "### Learning as described in paper: "
   ]
  },
  {
   "cell_type": "code",
   "execution_count": 8,
   "metadata": {},
   "outputs": [
    {
     "name": "stdout",
     "output_type": "stream",
     "text": [
      "---- Iteration : 1, Loss 0.7528664937627348 ----------------------\n",
      "---- Iteration : 2, Loss 0.7502428391985152 ----------------------\n",
      "---- Iteration : 3, Loss 0.7475037879370522 ----------------------\n",
      "---- Iteration : 4, Loss 0.7446507917611984 ----------------------\n",
      "---- Iteration : 5, Loss 0.7416767923971704 ----------------------\n",
      "---- Iteration : 6, Loss 0.738582624464484 ----------------------\n",
      "---- Iteration : 7, Loss 0.7353632152248678 ----------------------\n",
      "---- Iteration : 8, Loss 0.7320189898853479 ----------------------\n",
      "---- Iteration : 9, Loss 0.7285477397291832 ----------------------\n"
     ]
    }
   ],
   "source": [
    "## Learning as described in paper: \n",
    "learning_rate = 100000  # intial value was 10 but this quantity doesn't learn fast enough ! \n",
    "successive_loss = 1.0 # initialize to arbitrary value > 10^-5\n",
    "loss_lst = []  # initialize \n",
    "iteration_num = 1 \n",
    "\n",
    "while (abs(successive_loss) > 1e-5) and (iteration_num < 10):\n",
    "    pred = my_qcnn.forward(train_data, my_qcnn.params.copy())\n",
    "    loss = my_qcnn.mse_loss(pred, labels)\n",
    "    \n",
    "    print(\"---- Iteration : {}, Loss {} ----------------------\".format(iteration_num, loss))\n",
    "    \n",
    "    if iteration_num == 1:\n",
    "        pass \n",
    "    \n",
    "    else: \n",
    "        successive_loss = loss - loss_lst[-1]       \n",
    "        if successive_loss < 0: \n",
    "            learning_rate *= 1.05  # if loss decreases, increase learning rate by 5%\n",
    "        else:\n",
    "            learning_rate /= 2  # if it gets bigger, decrease learning rate by 50% \n",
    "            \n",
    "    grad_mat = my_qcnn.compute_grad(train_data, labels)\n",
    "#     grad_mat = my_qcnn.compute_grad_w_mp(train_data, labels)  # with multi processing \n",
    "    my_qcnn.update_params(grad_mat, learning_rate)\n",
    "    \n",
    "    loss_lst.append(loss)\n",
    "    iteration_num += 1 \n",
    "    \n",
    "# params = copy.deepcopy(my_qcnn.params)\n"
   ]
  },
  {
   "cell_type": "code",
   "execution_count": 9,
   "metadata": {},
   "outputs": [],
   "source": [
    "# print(params)  ## extracting parameters to save future training time "
   ]
  },
  {
   "cell_type": "code",
   "execution_count": 10,
   "metadata": {},
   "outputs": [
    {
     "name": "stdout",
     "output_type": "stream",
     "text": [
      "got predictions!\n"
     ]
    }
   ],
   "source": [
    "## Using model on test data (graph visualization) :\n",
    "predictions = my_qcnn.forward(test_data, my_qcnn.params.copy())\n",
    "print('got predictions!')"
   ]
  },
  {
   "cell_type": "code",
   "execution_count": 11,
   "metadata": {},
   "outputs": [
    {
     "data": {
      "image/png": "[encoded data removed]",
      "text/plain": [
       "<Figure size 432x288 with 2 Axes>"
      ]
     },
     "metadata": {
      "needs_background": "light"
     },
     "output_type": "display_data"
    }
   ],
   "source": [
    "flipped_pred_mat = predictions.reshape((64, 32), order='F')\n",
    "pred_mat = []\n",
    "for row_index in np.arange(len(flipped_pred_mat) - 1, -1, -1):\n",
    "    pred_mat.append(flipped_pred_mat[row_index])\n",
    "\n",
    "pred_mat = np.array(pred_mat)\n",
    "\n",
    "heat_map = plt.imshow(pred_mat, cmap = 'autumn', interpolation = 'nearest')\n",
    "plt.colorbar(heat_map, label=\"Exp_val X\")\n",
    "plt.title( \"2-D Heat Map\" )\n",
    "plt.xlabel('h1/J')\n",
    "plt.ylabel('h2/J')\n",
    "plt.show()"
   ]
  },
  {
   "cell_type": "code",
   "execution_count": 13,
   "metadata": {},
   "outputs": [
    {
     "name": "stdout",
     "output_type": "stream",
     "text": [
      "got predictions!\n"
     ]
    }
   ],
   "source": [
    "## heat_map for initial params (graph visualization) :\n",
    "initial_predictions = my_qcnn.forward(test_data, initial_params)\n",
    "print('got predictions!')"
   ]
  },
  {
   "cell_type": "code",
   "execution_count": 14,
   "metadata": {},
   "outputs": [],
   "source": [
    "# print(initial_params)  "
   ]
  },
  {
   "cell_type": "code",
   "execution_count": 15,
   "metadata": {},
   "outputs": [
    {
     "data": {
      "image/png": "[encoded data removed]",
      "text/plain": [
       "<Figure size 432x288 with 2 Axes>"
      ]
     },
     "metadata": {
      "needs_background": "light"
     },
     "output_type": "display_data"
    }
   ],
   "source": [
    "flipped_pred_mat = initial_predictions.reshape((64, 32), order='F')\n",
    "pred_mat = []\n",
    "for row_index in np.arange(len(flipped_pred_mat) - 1, -1, -1):\n",
    "    pred_mat.append(flipped_pred_mat[row_index])\n",
    "\n",
    "pred_mat = np.array(pred_mat)\n",
    "\n",
    "heat_map = plt.imshow(pred_mat, cmap = 'autumn', interpolation = 'nearest')\n",
    "plt.colorbar(heat_map, label=\"Exp_val X\")\n",
    "plt.title( \"2-D Heat Map\" )\n",
    "plt.xlabel('h1/J')\n",
    "plt.ylabel('h2/J')\n",
    "plt.show()"
   ]
  },
  {
   "cell_type": "code",
   "execution_count": 16,
   "metadata": {},
   "outputs": [
    {
     "data": {
      "image/png": "[encoded data removed]",
      "text/plain": [
       "<Figure size 432x288 with 1 Axes>"
      ]
     },
     "metadata": {
      "needs_background": "light"
     },
     "output_type": "display_data"
    }
   ],
   "source": [
    "## Loss plot: \n",
    "x_axis = range(len(loss_lst))\n",
    "\n",
    "plt.plot(x_axis, loss_lst)\n",
    "plt.title('Training Loss over Epoches')\n",
    "plt.xlabel('Epoches')\n",
    "plt.ylabel(\"Loss\")\n",
    "plt.show()"
   ]
  },
  {
   "cell_type": "markdown",
   "metadata": {},
   "source": [
    "### Experimental Learning Approach: "
   ]
  },
  {
   "cell_type": "code",
   "execution_count": 17,
   "metadata": {},
   "outputs": [],
   "source": [
    "## Experimental Learning approach: \n",
    "num_epoches = 100\n",
    "batch_size = 10\n",
    "learning_rate = 10\n"
   ]
  },
  {
   "cell_type": "markdown",
   "metadata": {},
   "source": [
    "### Helper function for testing internal tools"
   ]
  },
  {
   "cell_type": "code",
   "execution_count": 18,
   "metadata": {},
   "outputs": [
    {
     "name": "stdout",
     "output_type": "stream",
     "text": [
      "(-0.018830616659828464+0j)\n"
     ]
    }
   ],
   "source": [
    "from qiskit import quantum_info as qi\n",
    "from qiskit import QuantumCircuit\n",
    "num_qubits = 3\n",
    "\n",
    "random_state = qi.random_statevector(2**num_qubits)\n",
    "state_vector = random_state.data  # the actual vector of a1, a2, ... , a2^n\n",
    "\n",
    "# technical note, the probabilities are actually given by (ai)^2 \n",
    "state_vector = np.array(state_vector)\n",
    "probability_vector = (np.abs(state_vector))**2    # this is what you use to compute your expectation value ! \n",
    "\n",
    "# sanity check : \n",
    "# print(state_vector) # can be real or imaginary \n",
    "# print(probability_vector) # all real \n",
    "# print(np.sum(probability_vector)) # must be 1 \n",
    "\n",
    "\n",
    "def middle_qubit_exp_value(state_vect, num_qubits):\n",
    "    middle_qubit_index = num_qubits // 2\n",
    "\n",
    "    operator_circ = QuantumCircuit(num_qubits)          # define the circuit for the operator we want to computer\n",
    "    operator_circ.x(middle_qubit_index)                 # expectation value for\n",
    "    operator_circ = operator_circ.reverse_bits()\n",
    "\n",
    "    operator = qi.Operator(operator_circ)               # operator of interest\n",
    "    exp_value = state_vect.expectation_value(operator)  # expectation value of X operator on middle qubit\n",
    "\n",
    "    return exp_value\n",
    "\n",
    "## Your Exp should match this value: \n",
    "exp_val = middle_qubit_exp_value(random_state, num_qubits)\n",
    "print(exp_val)"
   ]
  }
 ],
 "metadata": {
  "kernelspec": {
   "display_name": "Python 3",
   "language": "python",
   "name": "python3"
  },
  "language_info": {
   "codemirror_mode": {
    "name": "ipython",
    "version": 3
   },
   "file_extension": ".py",
   "mimetype": "text/x-python",
   "name": "python",
   "nbconvert_exporter": "python",
   "pygments_lexer": "ipython3",
   "version": "3.7.4"
  }
 },
 "nbformat": 4,
 "nbformat_minor": 2
}
